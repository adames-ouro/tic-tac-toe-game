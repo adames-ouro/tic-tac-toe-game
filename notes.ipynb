{
 "cells": [
  {
   "cell_type": "code",
   "execution_count": 10,
   "metadata": {},
   "outputs": [
    {
     "data": {
      "text/plain": [
       "[['X', '', 'O'], ['', '', 'X'], ['', '', 'O']]"
      ]
     },
     "execution_count": 10,
     "metadata": {},
     "output_type": "execute_result"
    }
   ],
   "source": [
    "class TicTacToe(object):\n",
    "    '''Management of a Tic-Tac-Toe game (does not do strategy)'''\n",
    "\n",
    "    def __init__(self):\n",
    "        '''Start a new game'''\n",
    "        self.board = [ ['']*3 for _ in range(3)] # 3x3 matrix\n",
    "        self.player = '' # Player parameter\n",
    "        self.memory = {}\n",
    "        self.values = [ [0]*3 for _ in range(3)] # 3x3 matrix\n",
    "        self.values[0][0] += 2\n",
    "        self.values[0][2] += 2\n",
    "        self.values[2][0] += 2\n",
    "        self.values[2][2] += 2\n",
    "\n",
    "    def reset(self):\n",
    "        '''Reset the game to the initial state'''\n",
    "        self.board = [['']*3 for _ in range(3)]\n",
    "        self.player = ''\n",
    "        self.memory = {}\n",
    "        self.values = [ [0]*3 for _ in range(3)] # 3x3 matrix\n",
    "        self.values[0][0] += 2\n",
    "        self.values[0][2] += 2\n",
    "        self.values[2][0] += 2\n",
    "        self.values[2][2] += 2\n",
    "\n",
    "    def mark(self, row, col):\n",
    "        '''\n",
    "        Put an X or O mark on the board at position (row,col) \n",
    "        for next player's turn.\n",
    "        '''\n",
    "\n",
    "        # if the position is already taken\n",
    "        if self.board[row][col] != '':\n",
    "            raise ValueError('Board position occupied') # show error on web\n",
    "        \n",
    "        # if the game is already over\n",
    "        if self.winner() is not None:\n",
    "            raise ValueError('Game is already complete') # show on web\n",
    "        \n",
    "        # mark the position\n",
    "        self.board[row][col] = self.player\n",
    "        self.values[row][col] = None\n",
    "        self.memory[(row,col)] =  self.player\n",
    "        \n",
    "        # turn based moves\n",
    "        if self.player == 'X':\n",
    "            self.player = 'O'\n",
    "        else:\n",
    "            self.player = 'X'\n",
    "\n",
    "    def _is_win(self,mark):\n",
    "        '''Check if the board configuration is a win for the given player'''\n",
    "        board = self.board\n",
    "        return (mark == board[0][0] == board[0][1] == board[0][2] or # row 0\n",
    "                mark == board[1][0] == board[1][1] == board[1][2] or # row 1\n",
    "                mark == board[2][0] == board[2][1] == board[2][2] or # row 2\n",
    "                mark == board[0][0] == board[1][0] == board[2][0] or # column 0\n",
    "                mark == board[0][1] == board[1][1] == board[2][1] or # column 1\n",
    "                mark == board[0][2] == board[1][2] == board[2][2] or # column 2\n",
    "                mark == board[0][0] == board[1][1] == board[2][2] or # diagonals\n",
    "                mark == board[0][2] == board[1][1] == board[2][0])\n",
    "\n",
    "    def winner(self):\n",
    "        '''Return the mark of the winning player'''\n",
    "        for mark in 'XO':\n",
    "            if self._is_win(mark):\n",
    "                return mark\n",
    "        return None\n",
    "    \n",
    "\n",
    "game = TicTacToe()\n",
    "game.player = 'X'\n",
    "game.mark(0,0)\n",
    "game.player = 'O'\n",
    "game.mark(0,2)\n",
    "game.mark(1,2)\n",
    "game.mark(2,2)\n",
    "b = game.board\n",
    "b"
   ]
  },
  {
   "cell_type": "code",
   "execution_count": 2,
   "metadata": {},
   "outputs": [
    {
     "data": {
      "text/plain": [
       "{(0, 0): 'X', (0, 2): 'O', (1, 2): 'X', (2, 2): 'O'}"
      ]
     },
     "execution_count": 2,
     "metadata": {},
     "output_type": "execute_result"
    }
   ],
   "source": [
    "game.memory"
   ]
  },
  {
   "cell_type": "code",
   "execution_count": 3,
   "metadata": {},
   "outputs": [
    {
     "data": {
      "text/plain": [
       "'X'"
      ]
     },
     "execution_count": 3,
     "metadata": {},
     "output_type": "execute_result"
    }
   ],
   "source": [
    "game.player "
   ]
  },
  {
   "cell_type": "code",
   "execution_count": 4,
   "metadata": {},
   "outputs": [
    {
     "data": {
      "text/plain": [
       "[[None, 0, None], [0, 0, None], [2, 0, None]]"
      ]
     },
     "execution_count": 4,
     "metadata": {},
     "output_type": "execute_result"
    }
   ],
   "source": [
    "game.values"
   ]
  },
  {
   "cell_type": "code",
   "execution_count": 11,
   "metadata": {},
   "outputs": [
    {
     "data": {
      "text/plain": [
       "[[None, 2, None], [4, 2, None], [6, 2, None]]"
      ]
     },
     "execution_count": 11,
     "metadata": {},
     "output_type": "execute_result"
    }
   ],
   "source": [
    "# get filled cell positions\n",
    "rows, cols = set(), set()\n",
    "for coord in game.memory.keys():\n",
    "    rows.add(coord[0])\n",
    "    cols.add(coord[1])\n",
    "\n",
    "# update values for grids with goal of horz line\n",
    "for _rows in rows:\n",
    "    for _elements in range(len(game.values)):\n",
    "        if game.values[_rows][_elements] is not None:\n",
    "            game.values[_rows][_elements] += 2\n",
    "\n",
    "# update values for grids with goal of vert line\n",
    "for _cols in cols:\n",
    "    for _elements in range(len(game.values)):\n",
    "        if game.values[_elements][_cols] is not None:\n",
    "            game.values[_elements][_cols] += 2\n",
    "\n",
    "# update values for grids with goal of diagonal line\n",
    "main_diagonal = [(i,i) for i in range(len(game.values))]\n",
    "other_diagonal = [(i,len(game.values)-1-i) for i in range(len(game.values))]\n",
    "x_postions = [key for key, value in game.memory.items() if 'X' in value]\n",
    "o_postions = [key for key, value in game.memory.items() if 'O' in value]\n",
    "\n",
    "if game.player == 'X':\n",
    "    for o in o_postions:\n",
    "        if (o in main_diagonal) or (o in other_diagonal):\n",
    "            if game.values[o[0]][o[1]] is not None:\n",
    "                game.values[o[0]][o[1]] += 1\n",
    "        else:\n",
    "            if game.values[o[0]][o[1]] is not None:\n",
    "                game.values[o[0]][o[1]] += 2\n",
    "else:\n",
    "    for x in x_postions:\n",
    "        if (x in main_diagonal) or (x in other_diagonal):\n",
    "            if game.values[x[0]][x[1]] is not None:\n",
    "                game.values[x[0]][x[1]] += 1\n",
    "        else:\n",
    "            if game.values[x[0]][x[1]] is not None:\n",
    "                game.values[x[0]][x[1]] += 2\n",
    "            \n",
    "game.values"
   ]
  },
  {
   "cell_type": "code",
   "execution_count": 9,
   "metadata": {},
   "outputs": [
    {
     "data": {
      "text/plain": [
       "[[None, 4, None], [2, 2, None], [6, 4, None]]"
      ]
     },
     "execution_count": 9,
     "metadata": {},
     "output_type": "execute_result"
    }
   ],
   "source": [
    "def update_game_values(index, elements_range, increment):\n",
    "    for _elements in elements_range:\n",
    "        if game.values[index][_elements] is not None:\n",
    "            game.values[index][_elements] += increment\n",
    "\n",
    "def get_positions(symbol):\n",
    "    return [key for key, value in game.memory.items() if symbol in value]\n",
    "\n",
    "# get filled cell positions\n",
    "rows, cols = set(coord[0] for coord in game.memory.keys()), set(coord[1] for coord in game.memory.keys())\n",
    "\n",
    "# update values for grids with goal of horz/vert line\n",
    "for _rows in rows:\n",
    "    update_game_values(_rows, range(len(game.values)), 2)\n",
    "for _cols in cols:\n",
    "    update_game_values(_cols, range(len(game.values)), 2)\n",
    "\n",
    "# update values for grids with goal of diagonal line\n",
    "main_diagonal = [(i,i) for i in range(len(game.values))]\n",
    "other_diagonal = [(i,len(game.values)-1-i) for i in range(len(game.values))]\n",
    "x_positions = get_positions('X')\n",
    "o_positions = get_positions('O')\n",
    "\n",
    "positions = x_positions if game.player == 'X' else o_positions\n",
    "for pos in positions:\n",
    "    increment = 1 if pos in main_diagonal or pos in other_diagonal else 2\n",
    "    update_game_values(pos[0], [pos[1]], increment)\n",
    "\n",
    "game.values"
   ]
  }
 ],
 "metadata": {
  "kernelspec": {
   "display_name": ".venv",
   "language": "python",
   "name": "python3"
  },
  "language_info": {
   "codemirror_mode": {
    "name": "ipython",
    "version": 3
   },
   "file_extension": ".py",
   "mimetype": "text/x-python",
   "name": "python",
   "nbconvert_exporter": "python",
   "pygments_lexer": "ipython3",
   "version": "3.9.6"
  }
 },
 "nbformat": 4,
 "nbformat_minor": 2
}
