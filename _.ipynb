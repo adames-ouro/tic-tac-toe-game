{
 "cells": [
  {
   "cell_type": "code",
   "execution_count": 14,
   "metadata": {},
   "outputs": [
    {
     "data": {
      "text/plain": [
       "[[' ', ' ', ' '], [' ', 'X', ' '], [' ', ' ', ' ']]"
      ]
     },
     "execution_count": 14,
     "metadata": {},
     "output_type": "execute_result"
    }
   ],
   "source": [
    "class TicTacToe(object):\n",
    "    '''Management of a Tic-Tac-Toe game (does not do strategy)'''\n",
    "\n",
    "    def __init__(self,player):\n",
    "        '''Start a new game'''\n",
    "        self.board =[ [' ']*3 for _ in range(3)] # 3x3 matrix\n",
    "        self.player = player # Player parameter\n",
    "\n",
    "        if self.player == 'O':\n",
    "            self.board[1][1] = 'X'\n",
    "\n",
    "    def mark(self, row, col):\n",
    "        '''\n",
    "        Put an X or O mark on the board at position (row,col) \n",
    "        for next player's turn.\n",
    "        '''\n",
    "        # if the position is already taken\n",
    "        if self.board[row][col] != ' ':\n",
    "            raise ValueError('Board position occupied')\n",
    "        \n",
    "        # if the game is already over\n",
    "        if self.winner() is not None:\n",
    "            raise ValueError('Game is already complete')\n",
    "        \n",
    "        # mark the position\n",
    "        self.board[row][col] = self.player\n",
    "\n",
    "        # turn based moves\n",
    "        if self.player == 'X':\n",
    "            self.player = 'O'\n",
    "        else:\n",
    "            self.player = 'X'\n",
    "\n",
    "    def _is_win(self,mark):\n",
    "        '''Check if the board configuration is a win for the given player'''\n",
    "        board = self.board\n",
    "        return (mark == board[0][0] == board[0][1] == board[0][2] or # row 0\n",
    "                mark == board[1][0] == board[1][1] == board[1][2] or # row 1\n",
    "                mark == board[2][0] == board[2][1] == board[2][2] or # row 2\n",
    "                mark == board[0][0] == board[1][0] == board[2][0] or # column 0\n",
    "                mark == board[0][1] == board[1][1] == board[2][1] or # column 1\n",
    "                mark == board[0][2] == board[1][2] == board[2][2] or # column 2\n",
    "                mark == board[0][0] == board[1][1] == board[2][2] or # diagonals\n",
    "                mark == board[0][2] == board[1][1] == board[2][0])\n",
    "\n",
    "    def winner(self):\n",
    "        '''Return the mark of the winning player'''\n",
    "        for mark in 'XO':\n",
    "            if self._is_win(mark):\n",
    "                return mark\n",
    "        return None\n",
    "    \n",
    "\n",
    "game = TicTacToe(player='O')\n",
    "\n",
    "#game.mark(0,1)\n",
    "game.board"
   ]
  },
  {
   "cell_type": "markdown",
   "metadata": {},
   "source": [
    "### Original"
   ]
  },
  {
   "cell_type": "code",
   "execution_count": 10,
   "metadata": {},
   "outputs": [
    {
     "data": {
      "text/plain": [
       "[[' ', ' ', ' '], [' ', ' ', ' '], [' ', ' ', ' ']]"
      ]
     },
     "execution_count": 10,
     "metadata": {},
     "output_type": "execute_result"
    }
   ],
   "source": [
    "class TicTacToe(object):\n",
    "    '''Management of a Tic-Tac-Toe game (does not do strategy)'''\n",
    "\n",
    "    def __init__(self):\n",
    "        '''Start a new game'''\n",
    "        self.board =[ [' ']*3 for _ in range(3)] # 3x3 matrix\n",
    "        self.player = 'X' # Player with X always starts\n",
    "\n",
    "    def mark(self, row, col):\n",
    "        '''\n",
    "        Put an X or O mark on the board at position (row,col) \n",
    "        for next player's turn.\n",
    "        '''\n",
    "        # if the position is already taken\n",
    "        if self.board[row][col] != ' ':\n",
    "            raise ValueError('Board position occupied')\n",
    "        \n",
    "        # if the game is already over\n",
    "        if self.winner() is not None:\n",
    "            raise ValueError('Game is already complete')\n",
    "        \n",
    "        # mark the position\n",
    "        self.board[row][col] = self.player\n",
    "\n",
    "        # turn based moves\n",
    "        if self.player == 'X':\n",
    "            self.player = 'O'\n",
    "        else:\n",
    "            self.player = 'X'\n",
    "\n",
    "    def _is_win(self,mark):\n",
    "        '''Check if the board configuration is a win for the given player'''\n",
    "        board = self.board\n",
    "        return (mark == board[0][0] == board[0][1] == board[0][2] or # row 0\n",
    "                mark == board[1][0] == board[1][1] == board[1][2] or # row 1\n",
    "                mark == board[2][0] == board[2][1] == board[2][2] or # row 2\n",
    "                mark == board[0][0] == board[1][0] == board[2][0] or # column 0\n",
    "                mark == board[0][1] == board[1][1] == board[2][1] or # column 1\n",
    "                mark == board[0][2] == board[1][2] == board[2][2] or # column 2\n",
    "                mark == board[0][0] == board[1][1] == board[2][2] or # diagonals\n",
    "                mark == board[0][2] == board[1][1] == board[2][0])\n",
    "\n",
    "    def winner(self):\n",
    "        '''Return the mark of the winning player'''\n",
    "        for mark in 'XO':\n",
    "            if self._is_win(mark):\n",
    "                return mark\n",
    "        return None\n"
   ]
  }
 ],
 "metadata": {
  "kernelspec": {
   "display_name": ".venv",
   "language": "python",
   "name": "python3"
  },
  "language_info": {
   "codemirror_mode": {
    "name": "ipython",
    "version": 3
   },
   "file_extension": ".py",
   "mimetype": "text/x-python",
   "name": "python",
   "nbconvert_exporter": "python",
   "pygments_lexer": "ipython3",
   "version": "3.9.6"
  }
 },
 "nbformat": 4,
 "nbformat_minor": 2
}
